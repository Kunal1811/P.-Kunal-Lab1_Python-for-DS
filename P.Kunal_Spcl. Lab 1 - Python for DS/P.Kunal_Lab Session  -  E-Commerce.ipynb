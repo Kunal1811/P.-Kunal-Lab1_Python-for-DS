{
  "metadata": {
    "colab": {
      "name": "Lab Session  -  E-Commerce.ipynb",
      "provenance": []
    },
    "kernelspec": {
      "name": "python",
      "display_name": "Python (Pyodide)",
      "language": "python"
    },
    "language_info": {
      "codemirror_mode": {
        "name": "python",
        "version": 3
      },
      "file_extension": ".py",
      "mimetype": "text/x-python",
      "name": "python",
      "nbconvert_exporter": "python",
      "pygments_lexer": "ipython3",
      "version": "3.8"
    }
  },
  "nbformat_minor": 5,
  "nbformat": 4,
  "cells": [
    {
      "cell_type": "markdown",
      "source": "# Lab Session",
      "metadata": {
        "id": "2c8f47d3"
      },
      "id": "2c8f47d3"
    },
    {
      "cell_type": "markdown",
      "source": "## <font color='blue'> Table Of Contents </font>\n- Problem Statement \n- Load required libraries\n- Connect to DB using mysql-connector-python package\n- Create database named `e_commerce`\n- Create tables and insert data into tables as specified in the question\n- Read all the questions and write sql queries to meet the objective ",
      "metadata": {
        "id": "f637aba6"
      },
      "id": "f637aba6"
    },
    {
      "cell_type": "markdown",
      "source": "## <font color='blue'> Problem Statement </font>\n###  An E-commerce website manages its data in the form of various tables.\nYou need to create a Database called `e_commerce` and various tables in it. The tables needed and attributes which need to be in every table are given before hand. All you have to do is create tables with data in it and answer some of the questions that follows.",
      "metadata": {
        "id": "1073fc90"
      },
      "id": "1073fc90"
    },
    {
      "cell_type": "markdown",
      "source": "### e_commerce Schema:",
      "metadata": {
        "id": "48787355"
      },
      "id": "48787355"
    },
    {
      "cell_type": "markdown",
      "source": "### Load Required Libraries",
      "metadata": {
        "id": "d9abe6c7"
      },
      "id": "d9abe6c7"
    },
    {
      "cell_type": "code",
      "source": "import mysql.connector\nimport pandas as pd",
      "metadata": {
        "id": "0178d08e"
      },
      "execution_count": 2,
      "outputs": [],
      "id": "0178d08e"
    },
    {
      "cell_type": "markdown",
      "source": "### Connect to DB using Mysql-connector-python package",
      "metadata": {
        "id": "d7d7fd5c"
      },
      "id": "d7d7fd5c"
    },
    {
      "cell_type": "code",
      "source": "connection = mysql.connector.connect(host =\"localhost\",\n                                     user =\"root\",\n                                     passwd =\"Admin123\")\n\ncursorObject = connection.cursor()",
      "metadata": {
        "id": "ef7bef72"
      },
      "execution_count": 2,
      "outputs": [],
      "id": "ef7bef72"
    },
    {
      "cell_type": "markdown",
      "source": "### You are required to create a database named 'e_commerce'",
      "metadata": {
        "id": "9d55e510"
      },
      "id": "9d55e510"
    },
    {
      "cell_type": "code",
      "source": "cursorObject.execute(\"CREATE DATABASE e_commerce\")\n\nconnection.close()",
      "metadata": {
        "id": "42a154f2"
      },
      "execution_count": 3,
      "outputs": [],
      "id": "42a154f2"
    },
    {
      "cell_type": "markdown",
      "source": "### Q1. Create tables for supplier, customer, category, product, productDetails, order, rating to store the data for the E-commerce with the schema definition given below.\n\n\n- **`supplier`**(SUPP_ID int primary key, SUPP_NAME varchar(50), SUPP_CITY varchar(50), SUPP_PHONE varchar(10))\n\n\n- **`customer`** (CUS_ID INT NOT NULL, CUS_NAME VARCHAR(20) NULL DEFAULT NULL, CUS_PHONE VARCHAR(10), CUS_CITY varchar(30) ,CUS_GENDER CHAR,PRIMARY KEY (CUS_ID))\n\n\n- **`category`** (CAT_ID INT NOT NULL, CAT_NAME VARCHAR(20) NULL DEFAULT NULL,PRIMARY KEY (CAT_ID))\n\n\n- **`product`** (PRO_ID INT NOT NULL, PRO_NAME VARCHAR(20) NULL DEFAULT NULL, PRO_DESC VARCHAR(60) NULL DEFAULT NULL, CAT_ID INT NOT NULL,PRIMARY KEY (PRO_ID),FOREIGN KEY (CAT_ID) REFERENCES CATEGORY (CAT_ID))\n\n\n- **`product_details`** (PROD_ID INT NOT NULL, PRO_ID INT NOT NULL, SUPP_ID INT NOT NULL, PROD_PRICE INT NOT NULL,\n  PRIMARY KEY (PROD_ID),FOREIGN KEY (PRO_ID) REFERENCES PRODUCT (PRO_ID), FOREIGN KEY (SUPP_ID) REFERENCES SUPPLIER(SUPP_ID))\n  \n  \n- **`order`** (ORD_ID INT NOT NULL, ORD_AMOUNT INT NOT NULL, ORD_DATE DATE, CUS_ID INT NOT NULL, PROD_ID INT NOT NULL,PRIMARY KEY (ORD_ID),FOREIGN KEY (CUS_ID) REFERENCES CUSTOMER(CUS_ID),FOREIGN KEY (PROD_ID) REFERENCES PRODUCT_DETAILS(PROD_ID))\n\n\n- **`rating`** (RAT_ID INT NOT NULL, CUS_ID INT NOT NULL, SUPP_ID INT NOT NULL, RAT_RATSTARS INT NOT NULL,PRIMARY KEY (RAT_ID),FOREIGN KEY (SUPP_ID) REFERENCES SUPPLIER (SUPP_ID),FOREIGN KEY (CUS_ID) REFERENCES CUSTOMER(CUS_ID))",
      "metadata": {
        "id": "480dc986"
      },
      "id": "480dc986"
    },
    {
      "cell_type": "code",
      "source": "## Again connect to the Mysql server and while connecting Choose 'e_commerce' database\nconnection = mysql.connector.connect(host =\"localhost\",\n                                     user =\"root\",\n                                     passwd =\"Admin123\",\n                                     database = 'e_commerce')\n \n## creating a cursor object\ncursorObject = connection.cursor()\n\n\n## Solution for Q1: Creating tables \ntable_creation_query = \"\"\"create table supplier(SUPP_ID int primary key, SUPP_NAME varchar(50), SUPP_CITY varchar(50), \n                          SUPP_PHONE varchar(10));\n\n                          create table customer(CUS_ID INT NOT NULL, CUS_NAME VARCHAR(20) NULL DEFAULT NULL, \n                          CUS_PHONE VARCHAR(10), CUS_CITY varchar(30) ,CUS_GENDER CHAR,\n                          PRIMARY KEY (CUS_ID));\n\n                          create table category(CAT_ID INT NOT NULL, CAT_NAME VARCHAR(20) NULL DEFAULT NULL,\n                          PRIMARY KEY (CAT_ID));\n\n                          create table product(PRO_ID INT NOT NULL, PRO_NAME VARCHAR(20) NULL DEFAULT NULL, \n                          PRO_DESC VARCHAR(60) NULL DEFAULT NULL, CAT_ID INT NOT NULL,\n                          PRIMARY KEY (PRO_ID),\n                          FOREIGN KEY (CAT_ID) REFERENCES CATEGORY (CAT_ID));\n\n                          create table product_details(PROD_ID INT NOT NULL, PRO_ID INT NOT NULL, SUPP_ID INT NOT NULL, \n                          PROD_PRICE INT NOT NULL, \n                          PRIMARY KEY (PROD_ID),\n                          FOREIGN KEY (PRO_ID) REFERENCES PRODUCT (PRO_ID), \n                          FOREIGN KEY (SUPP_ID) REFERENCES SUPPLIER(SUPP_ID));\n\n                          create table `order`(ORD_ID INT NOT NULL, ORD_AMOUNT INT NOT NULL, ORD_DATE DATE, CUS_ID INT NOT NULL, \n                          PROD_ID INT NOT NULL,\n                          PRIMARY KEY (ORD_ID),\n                          FOREIGN KEY (CUS_ID) REFERENCES CUSTOMER(CUS_ID),\n                          FOREIGN KEY (PROD_ID) REFERENCES PRODUCT_DETAILS(PROD_ID));\n                          \n                          create table rating(RAT_ID INT NOT NULL, CUS_ID INT NOT NULL, SUPP_ID INT NOT NULL, \n                          RAT_RATSTARS INT NOT NULL,\n                          PRIMARY KEY (RAT_ID),\n                          FOREIGN KEY (SUPP_ID) REFERENCES SUPPLIER (SUPP_ID),\n                          FOREIGN KEY (CUS_ID) REFERENCES CUSTOMER(CUS_ID));\"\"\"\n                  \n# Executing the query\ncursorObject.execute(table_creation_query)",
      "metadata": {
        "id": "967b718f"
      },
      "execution_count": 4,
      "outputs": [],
      "id": "967b718f"
    },
    {
      "cell_type": "code",
      "source": "connection.close()",
      "metadata": {},
      "execution_count": 21,
      "outputs": [],
      "id": "a6874dfb"
    },
    {
      "cell_type": "markdown",
      "source": "### Q2. Insert the following data in the table created above\n#### `Note:` If you are getting any error while inserting the data into tables, Kindly close the connection and reconnect\n\n#### Table:  supplier\n| SUPP_ID | SUPP_NAME | SUPP_CITY | SUPP_PHONE |\n| --- | --- | --- | --- | \n| 1 | Rajesh Retails | Delhi | 1234567890 |\n| 2 | Appario Ltd. | Mumbai | 258963147032 | \n| 3 | Knome products | Bangalore | 9785462315 |\n| 4 | Bansal Retails | Kochi | 8975463285 |\n| 5 | Mittal Ltd. | Lucknow | 7898456532 |",
      "metadata": {
        "id": "1f653731"
      },
      "id": "1f653731"
    },
    {
      "cell_type": "code",
      "source": "# re-opening connection\nconnection = mysql.connector.connect(host =\"localhost\",\n                                     user =\"root\",\n                                     passwd =\"Admin123\",\n                                     database = 'e_commerce')\ncursorObject = connection.cursor()\n\n\n# insert into \"supplier\" table\ninsert_into_supplier = \"\"\"INSERT INTO supplier (SUPP_ID, SUPP_NAME, SUPP_CITY, SUPP_PHONE) VALUES (%s, %s, %s, %s);\"\"\"\n\nval = [(1, 'Rajesh Retails', 'Delhi', '1234567890'),(2, 'Appario Ltd.', 'Mumbai', '8963147032'),\n      (3, 'Knome products', 'Bangalore', '9785462315'),(4, 'Bansal Retails', 'Kochi', '8975463285'),\n      (5, 'Mittal Ltd.', 'Lucknow', '7898456532')]\n\ncursorObject.executemany(insert_into_supplier, val)\nconnection.commit()",
      "metadata": {
        "id": "f6dddd07"
      },
      "execution_count": 16,
      "outputs": [],
      "id": "f6dddd07"
    },
    {
      "cell_type": "markdown",
      "source": "#### Table:  customer\n| CUS_ID | CUS_NAME | SUPP_PHONE | CUS_CITY | CUS_GENDER\n| --- | --- | --- | --- | --- |\n| 1 | AAKASH | 9999999999 | DELHI | M |\n| 2 | AMAN | 9785463215 | NOIDA | M |\n| 3 | NEHA | 9999999998 | MUMBAI | F |\n| 4 | MEGHA | 9994562399 | KOLKATA | F |\n| 5 | PULKIT | 7895999999 | LUCKNOW | M |",
      "metadata": {
        "id": "e8a070a6"
      },
      "id": "e8a070a6"
    },
    {
      "cell_type": "code",
      "source": "# insert into \"customer\" table\ninsert_into_customer = \"\"\"INSERT INTO customer (CUS_ID, CUS_NAME, CUS_PHONE, CUS_CITY, CUS_GENDER) \n                            VALUES (%s, %s, %s, %s, %s);\"\"\"\n\nval = [(1, 'AAKASH', '9999999999', 'DELHI','M'),(2, 'AMAN', '9785463215', 'NOIDA','M'),\n      (3, 'NEHA', '9999999998', 'MUMBAI','F'),(4, 'MEGHA', '9994562399', 'KOLKATA','F'),\n      (5, 'PULKIT', '7895999999', 'LUCKNOW','M')]\n\ncursorObject.executemany(insert_into_customer, val)\nconnection.commit()",
      "metadata": {
        "id": "15a4ee87"
      },
      "execution_count": 14,
      "outputs": [],
      "id": "15a4ee87"
    },
    {
      "cell_type": "markdown",
      "source": "#### Table:  category\n| CAT_ID | CAT_NAME | \n| --- | --- |  \n| 1 | BOOKS |\n| 2 | GAMES |  \n| 3 | GROCERIES | \n| 4 | ELECTRONICS | \n| 5 | CLOTHES | ",
      "metadata": {
        "id": "b68bfbc2"
      },
      "id": "b68bfbc2"
    },
    {
      "cell_type": "code",
      "source": "# insert into \"category\" table\ninsert_into_category = \"\"\"INSERT INTO category (CAT_ID, CAT_NAME) \n                            VALUES (%s, %s);\"\"\"\n\nval = [(1, 'BOOKS'),(2, 'GAMES'),\n      (3, 'GROCERIES'),(4, 'ELECTRONICS'),\n      (5, 'CLOTHES')]\n\ncursorObject.executemany(insert_into_category, val)\nconnection.commit()",
      "metadata": {
        "id": "05a00abc"
      },
      "execution_count": 16,
      "outputs": [],
      "id": "05a00abc"
    },
    {
      "cell_type": "markdown",
      "source": "#### Table:  product\n| PRO_ID | PRO_NAME | PRO_DESC | CAT_ID |\n| --- | --- | --- | --- | \n| 1 | GTA V | DFJDJFDJFDJFDJFJF | 2 |\n| 2 | TSHIRT | DFDFJDFJDKFD | 5 | \n| 3 | ROG LAPTOP | DFNTTNTNTERND | 4 |\n| 4 | OATS | REURENTBTOTH | 3 |\n| 5 | HARRY POTTER | NBEMCTHTJTH | 1 |\n",
      "metadata": {
        "id": "eb3bc592"
      },
      "id": "eb3bc592"
    },
    {
      "cell_type": "code",
      "source": "# insert into \"product\" table\ninsert_into_product = \"\"\"INSERT INTO product (PRO_ID, PRO_NAME, PRO_DESC, CAT_ID) \n                            VALUES (%s, %s, %s, %s);\"\"\"\n\nval = [(1, 'GTA V', 'DFJDJFDJFDJFDJFJF', 2),(2, 'TSHIRT', 'DFDFJDFJDKFD', 5),\n      (3, 'ROG LAPTOP', 'DFNTTNTNTERND', 4),(4, 'OATS', 'REURENTBTOTH', 3),\n      (5, 'HARRY POTTER', 'NBEMCTHTJTH', 1)]\n\ncursorObject.executemany(insert_into_product, val)\nconnection.commit()",
      "metadata": {
        "id": "cdfbdfad"
      },
      "execution_count": 17,
      "outputs": [],
      "id": "cdfbdfad"
    },
    {
      "cell_type": "markdown",
      "source": "#### Table:  product_details\n| PROD_ID | PRO_ID | SUPP_ID | PROD_PRICE |\n| --- | --- | --- | --- | \n| 1 | 1 | 2 | 1500 |\n| 2 | 3 | 5 | 30000 | \n| 3 | 5 | 1 | 3000 |\n| 4 | 2 | 3 | 2500 |\n| 5 | 4 | 1 | 1000 |",
      "metadata": {
        "id": "cfa8a47d"
      },
      "id": "cfa8a47d"
    },
    {
      "cell_type": "code",
      "source": "# insert into \"product_details\" table\ninsert_into_prod_dtls = \"\"\"INSERT INTO product_details (PROD_ID, PRO_ID, SUPP_ID, PROD_PRICE) \n                            VALUES (%s, %s, %s, %s);\"\"\"\n\nval = [(1, 1, 2, 1500),(2, 3, 5, 30000),\n      (3, 5, 1, 3000),(4, 2, 3, 2500),\n      (5, 4, 1, 1000)]\n\ncursorObject.executemany(insert_into_prod_dtls, val)\nconnection.commit()",
      "metadata": {
        "id": "c18ea964"
      },
      "execution_count": 18,
      "outputs": [],
      "id": "c18ea964"
    },
    {
      "cell_type": "markdown",
      "source": "#### Table:  orders\n| ORD_ID | ORD_AMOUNT | ORD_DATE | CUS_ID | PROD_ID\n| --- | --- | --- | --- | --- |\n| 20 | 1500 | 2021-10-12 | 3 | 5 |\n| 25 | 30500 | 2021-09-16 | 5 | 2 |\n| 26 | 2000 | 2021-10-05 | 1 | 1 |\n| 30 | 3500 | 2021-08-16 | 4 | 3 |\n| 50 | 2000 | 2021-10-06 | 2 | 1 |",
      "metadata": {
        "id": "1df49086"
      },
      "id": "1df49086"
    },
    {
      "cell_type": "code",
      "source": "# insert into \"orders\" table\ninsert_into_order = \"\"\"INSERT INTO `order` (ORD_ID, ORD_AMOUNT, ORD_DATE, CUS_ID, PROD_ID) \n                            VALUES (%s, %s, %s, %s, %s);\"\"\"\n\nval = [(20, 1500, '2021-10-12', 3, 5),(2, 30500, '2021-09-16', 5, 2),\n      (3, 2000, '2021-10-05', 1, 1),(4, 3500, '2021-08-16', 4, 3),\n      (5, 2000, '2021-10-06', 2, 1)]\n\ncursorObject.executemany(insert_into_order, val)\nconnection.commit()",
      "metadata": {
        "id": "0d97dc92"
      },
      "execution_count": 19,
      "outputs": [],
      "id": "0d97dc92"
    },
    {
      "cell_type": "markdown",
      "source": "#### Table: rating\n| RAT_ID | CUS_ID | SUPP_ID | RAT_RATSTARS |\n| --- | --- | --- | --- | \n| 1 | 2 | 2 | 4 |\n| 2 | 3 | 4 | 3 | \n| 3 | 5 | 1 | 5 |\n| 4 | 1 | 3 | 2 |\n| 5 | 4 | 5 | 4 |",
      "metadata": {
        "id": "75b8ce5f"
      },
      "id": "75b8ce5f"
    },
    {
      "cell_type": "code",
      "source": "# insert into \"rating\" table\ninsert_into_rating = \"\"\"INSERT INTO rating (RAT_ID, CUS_ID, SUPP_ID, RAT_RATSTARS) \n                            VALUES (%s, %s, %s, %s);\"\"\"\n\nval = [(1, 2, 2, 4),(2, 3, 4, 3),\n      (3, 5, 1, 5),(4, 1, 3, 2),\n      (5, 4, 5, 4)]\n\ncursorObject.executemany(insert_into_rating, val)\nconnection.commit()",
      "metadata": {
        "id": "6d5f1e18"
      },
      "execution_count": 20,
      "outputs": [],
      "id": "6d5f1e18"
    },
    {
      "cell_type": "markdown",
      "source": "### Q3) Display the number of the customer group by their genders who have placed any order of amount greater than or equal to Rs.3000.",
      "metadata": {
        "id": "b59361c3"
      },
      "id": "b59361c3"
    },
    {
      "cell_type": "code",
      "source": "connection = mysql.connector.connect(host =\"localhost\",\n                                     user =\"root\",\n                                     passwd =\"Admin123\",\n                                     database = 'e_commerce')\ncursorObject = connection.cursor()\n\nquery_3 = \"\"\"SELECT CUSTOMER.CUS_GENDER, COUNT(CUSTOMER.CUS_GENDER) AS COUNT FROM CUSTOMER INNER JOIN `ORDER` \n             ON CUSTOMER.CUS_ID=`ORDER`.CUS_ID WHERE `ORDER`.ORD_AMOUNT>=3000 GROUP BY CUSTOMER.CUS_GENDER;\"\"\"\n\ncursorObject.execute(query_3)\n\noutput = cursorObject.fetchall()\n\n## Lets put the output of this query in pandas DataFrame \noutput_df = pd.DataFrame(output, columns=['CUS_GENDER','COUNT'])\noutput_df",
      "metadata": {
        "id": "fcafaf3c"
      },
      "execution_count": 4,
      "outputs": [
        {
          "execution_count": 4,
          "output_type": "execute_result",
          "data": {
            "text/html": [
              "<div>\n",
              "<style scoped>\n",
              "    .dataframe tbody tr th:only-of-type {\n",
              "        vertical-align: middle;\n",
              "    }\n",
              "\n",
              "    .dataframe tbody tr th {\n",
              "        vertical-align: top;\n",
              "    }\n",
              "\n",
              "    .dataframe thead th {\n",
              "        text-align: right;\n",
              "    }\n",
              "</style>\n",
              "<table border=\"1\" class=\"dataframe\">\n",
              "  <thead>\n",
              "    <tr style=\"text-align: right;\">\n",
              "      <th></th>\n",
              "      <th>CUS_GENDER</th>\n",
              "      <th>COUNT</th>\n",
              "    </tr>\n",
              "  </thead>\n",
              "  <tbody>\n",
              "    <tr>\n",
              "      <th>0</th>\n",
              "      <td>M</td>\n",
              "      <td>1</td>\n",
              "    </tr>\n",
              "    <tr>\n",
              "      <th>1</th>\n",
              "      <td>F</td>\n",
              "      <td>1</td>\n",
              "    </tr>\n",
              "  </tbody>\n",
              "</table>\n",
              "</div>"
            ],
            "text/plain": [
              "  CUS_GENDER  COUNT\n",
              "0          M      1\n",
              "1          F      1"
            ]
          },
          "metadata": {}
        }
      ],
      "id": "fcafaf3c"
    },
    {
      "cell_type": "markdown",
      "source": "### Q4) Display all the order along with product name ordered by a customer having Customer_Id=2;",
      "metadata": {
        "id": "e49e04f5"
      },
      "id": "e49e04f5"
    },
    {
      "cell_type": "code",
      "source": "query_4 = \"\"\"SELECT `ORDER`.*, PRODUCT.PRO_NAME FROM `ORDER`, PRODUCT_DETAILS, PRODUCT WHERE `ORDER`.CUS_ID=2 \n             AND `ORDER`.PROD_ID = PRODUCT_DETAILS.PROD_ID AND PRODUCT_DETAILS.PRO_ID = PRODUCT.PRO_ID;\"\"\"\n\ncursorObject.execute(query_4)\n\noutput = cursorObject.fetchall()\n\n## Lets put the output of this query in pandas DataFrame \noutput_df = pd.DataFrame(output, columns=['ORD_ID','ORD_AMOUNT','ORD_DATE','CUS_ID','PROD_ID','PRO_NAME'])\noutput_df",
      "metadata": {
        "id": "9dcb7883"
      },
      "execution_count": 5,
      "outputs": [
        {
          "execution_count": 5,
          "output_type": "execute_result",
          "data": {
            "text/html": [
              "<div>\n",
              "<style scoped>\n",
              "    .dataframe tbody tr th:only-of-type {\n",
              "        vertical-align: middle;\n",
              "    }\n",
              "\n",
              "    .dataframe tbody tr th {\n",
              "        vertical-align: top;\n",
              "    }\n",
              "\n",
              "    .dataframe thead th {\n",
              "        text-align: right;\n",
              "    }\n",
              "</style>\n",
              "<table border=\"1\" class=\"dataframe\">\n",
              "  <thead>\n",
              "    <tr style=\"text-align: right;\">\n",
              "      <th></th>\n",
              "      <th>ORD_ID</th>\n",
              "      <th>ORD_AMOUNT</th>\n",
              "      <th>ORD_DATE</th>\n",
              "      <th>CUS_ID</th>\n",
              "      <th>PROD_ID</th>\n",
              "      <th>PRO_NAME</th>\n",
              "    </tr>\n",
              "  </thead>\n",
              "  <tbody>\n",
              "    <tr>\n",
              "      <th>0</th>\n",
              "      <td>5</td>\n",
              "      <td>2000</td>\n",
              "      <td>2021-10-06</td>\n",
              "      <td>2</td>\n",
              "      <td>1</td>\n",
              "      <td>GTA V</td>\n",
              "    </tr>\n",
              "  </tbody>\n",
              "</table>\n",
              "</div>"
            ],
            "text/plain": [
              "   ORD_ID  ORD_AMOUNT    ORD_DATE  CUS_ID  PROD_ID PRO_NAME\n",
              "0       5        2000  2021-10-06       2        1    GTA V"
            ]
          },
          "metadata": {}
        }
      ],
      "id": "9dcb7883"
    },
    {
      "cell_type": "markdown",
      "source": "### Q5) Display the Supplier details who can supply more than one product.",
      "metadata": {
        "id": "3a33398e"
      },
      "id": "3a33398e"
    },
    {
      "cell_type": "code",
      "source": "query_5 = \"\"\"SELECT SUPPLIER.* FROM SUPPLIER WHERE SUPPLIER.SUPP_ID IN \n             (SELECT SUPP_ID FROM PRODUCT_DETAILS GROUP BY SUPP_ID HAVING COUNT(SUPP_ID) > 1)\n             GROUP BY SUPPLIER.SUPP_ID;\"\"\"\n\ncursorObject.execute(query_5)\n\noutput = cursorObject.fetchall()\n\n## Lets put the output of this query in pandas DataFrame \noutput_df = pd.DataFrame(output, columns=['SUPP_ID','SUPP_NAME','SUPP_CITY','SUPP_PHONE'])\noutput_df",
      "metadata": {
        "id": "e933b979"
      },
      "execution_count": 6,
      "outputs": [
        {
          "execution_count": 6,
          "output_type": "execute_result",
          "data": {
            "text/html": [
              "<div>\n",
              "<style scoped>\n",
              "    .dataframe tbody tr th:only-of-type {\n",
              "        vertical-align: middle;\n",
              "    }\n",
              "\n",
              "    .dataframe tbody tr th {\n",
              "        vertical-align: top;\n",
              "    }\n",
              "\n",
              "    .dataframe thead th {\n",
              "        text-align: right;\n",
              "    }\n",
              "</style>\n",
              "<table border=\"1\" class=\"dataframe\">\n",
              "  <thead>\n",
              "    <tr style=\"text-align: right;\">\n",
              "      <th></th>\n",
              "      <th>SUPP_ID</th>\n",
              "      <th>SUPP_NAME</th>\n",
              "      <th>SUPP_CITY</th>\n",
              "      <th>SUPP_PHONE</th>\n",
              "    </tr>\n",
              "  </thead>\n",
              "  <tbody>\n",
              "    <tr>\n",
              "      <th>0</th>\n",
              "      <td>1</td>\n",
              "      <td>Rajesh Retails</td>\n",
              "      <td>Delhi</td>\n",
              "      <td>1234567890</td>\n",
              "    </tr>\n",
              "  </tbody>\n",
              "</table>\n",
              "</div>"
            ],
            "text/plain": [
              "   SUPP_ID       SUPP_NAME SUPP_CITY  SUPP_PHONE\n",
              "0        1  Rajesh Retails     Delhi  1234567890"
            ]
          },
          "metadata": {}
        }
      ],
      "id": "e933b979"
    },
    {
      "cell_type": "markdown",
      "source": "### Q6) Find the category of the product whose order amount is minimum.",
      "metadata": {
        "id": "5fd319ef"
      },
      "id": "5fd319ef"
    },
    {
      "cell_type": "code",
      "source": "query_6 = \"\"\"SELECT CATEGORY.* FROM `ORDER` INNER JOIN PRODUCT_DETAILS ON `ORDER`.PROD_ID = PRODUCT_DETAILS.PROD_ID \n             INNER JOIN PRODUCT ON PRODUCT.PRO_ID = PRODUCT_DETAILS.PRO_ID\n             INNER JOIN CATEGORY ON CATEGORY.CAT_ID = PRODUCT.CAT_ID \n             WHERE `ORDER`.ORD_AMOUNT = (SELECT MIN(ORD_AMOUNT) FROM `ORDER`);\"\"\"\n\ncursorObject.execute(query_6)\n\noutput = cursorObject.fetchall()\n\n## Lets put the output of this query in pandas DataFrame \noutput_df = pd.DataFrame(output, columns=['CAT_ID','CAT_NAME'])\noutput_df",
      "metadata": {
        "id": "06f5cb51"
      },
      "execution_count": 8,
      "outputs": [
        {
          "execution_count": 8,
          "output_type": "execute_result",
          "data": {
            "text/html": [
              "<div>\n",
              "<style scoped>\n",
              "    .dataframe tbody tr th:only-of-type {\n",
              "        vertical-align: middle;\n",
              "    }\n",
              "\n",
              "    .dataframe tbody tr th {\n",
              "        vertical-align: top;\n",
              "    }\n",
              "\n",
              "    .dataframe thead th {\n",
              "        text-align: right;\n",
              "    }\n",
              "</style>\n",
              "<table border=\"1\" class=\"dataframe\">\n",
              "  <thead>\n",
              "    <tr style=\"text-align: right;\">\n",
              "      <th></th>\n",
              "      <th>CAT_ID</th>\n",
              "      <th>CAT_NAME</th>\n",
              "    </tr>\n",
              "  </thead>\n",
              "  <tbody>\n",
              "    <tr>\n",
              "      <th>0</th>\n",
              "      <td>3</td>\n",
              "      <td>GROCERIES</td>\n",
              "    </tr>\n",
              "  </tbody>\n",
              "</table>\n",
              "</div>"
            ],
            "text/plain": [
              "   CAT_ID   CAT_NAME\n",
              "0       3  GROCERIES"
            ]
          },
          "metadata": {}
        }
      ],
      "id": "06f5cb51"
    },
    {
      "cell_type": "markdown",
      "source": "### Q7) Display the Id and Name of the Product ordered after “2021-10-05”.",
      "metadata": {
        "id": "107102d4"
      },
      "id": "107102d4"
    },
    {
      "cell_type": "code",
      "source": "query_7 = \"\"\"SELECT PRODUCT.PRO_ID, PRODUCT.PRO_NAME FROM PRODUCT \n             INNER JOIN PRODUCT_DETAILS ON PRODUCT.PRO_ID = PRODUCT_DETAILS.PRO_ID \n             INNER JOIN `ORDER` ON `ORDER`.PROD_ID = PRODUCT_DETAILS.PROD_ID \n             WHERE `ORDER`.ORD_DATE > \"2021-10-05\";\"\"\"\n\ncursorObject.execute(query_7)\n\noutput = cursorObject.fetchall()\n\n## Lets put the output of this query in pandas DataFrame \noutput_df = pd.DataFrame(output, columns=['PRO_ID','PRO_NAME'])\noutput_df",
      "metadata": {
        "id": "5d3fc7e8"
      },
      "execution_count": 9,
      "outputs": [
        {
          "execution_count": 9,
          "output_type": "execute_result",
          "data": {
            "text/html": [
              "<div>\n",
              "<style scoped>\n",
              "    .dataframe tbody tr th:only-of-type {\n",
              "        vertical-align: middle;\n",
              "    }\n",
              "\n",
              "    .dataframe tbody tr th {\n",
              "        vertical-align: top;\n",
              "    }\n",
              "\n",
              "    .dataframe thead th {\n",
              "        text-align: right;\n",
              "    }\n",
              "</style>\n",
              "<table border=\"1\" class=\"dataframe\">\n",
              "  <thead>\n",
              "    <tr style=\"text-align: right;\">\n",
              "      <th></th>\n",
              "      <th>PRO_ID</th>\n",
              "      <th>PRO_NAME</th>\n",
              "    </tr>\n",
              "  </thead>\n",
              "  <tbody>\n",
              "    <tr>\n",
              "      <th>0</th>\n",
              "      <td>1</td>\n",
              "      <td>GTA V</td>\n",
              "    </tr>\n",
              "    <tr>\n",
              "      <th>1</th>\n",
              "      <td>4</td>\n",
              "      <td>OATS</td>\n",
              "    </tr>\n",
              "  </tbody>\n",
              "</table>\n",
              "</div>"
            ],
            "text/plain": [
              "   PRO_ID PRO_NAME\n",
              "0       1    GTA V\n",
              "1       4     OATS"
            ]
          },
          "metadata": {}
        }
      ],
      "id": "5d3fc7e8"
    },
    {
      "cell_type": "markdown",
      "source": "### Q8) Print the top 3 supplier name and id and rating on the basis of their rating along with the customer name who has given the rating.",
      "metadata": {
        "id": "bdce7167"
      },
      "id": "bdce7167"
    },
    {
      "cell_type": "code",
      "source": "query_8 = \"\"\"SELECT SUPPLIER.SUPP_ID, SUPPLIER.SUPP_NAME, CUSTOMER.CUS_ID, CUSTOMER.CUS_NAME, RATING.RAT_RATSTARS FROM RATING \n             INNER JOIN SUPPLIER ON RATING.SUPP_ID = SUPPLIER.SUPP_ID \n             INNER JOIN CUSTOMER ON RATING.CUS_ID = CUSTOMER.CUS_ID \n             ORDER BY RATING.RAT_RATSTARS DESC LIMIT 3;\"\"\"\n\ncursorObject.execute(query_8)\n\noutput = cursorObject.fetchall()\n\n## Lets put the output of this query in pandas DataFrame \noutput_df = pd.DataFrame(output, columns=['SUPP_ID','SUPP_NAME','CUS_ID','CUS_NAME','RAT_RATSTARS'])\noutput_df",
      "metadata": {
        "id": "fa0cbe44"
      },
      "execution_count": 10,
      "outputs": [
        {
          "execution_count": 10,
          "output_type": "execute_result",
          "data": {
            "text/html": [
              "<div>\n",
              "<style scoped>\n",
              "    .dataframe tbody tr th:only-of-type {\n",
              "        vertical-align: middle;\n",
              "    }\n",
              "\n",
              "    .dataframe tbody tr th {\n",
              "        vertical-align: top;\n",
              "    }\n",
              "\n",
              "    .dataframe thead th {\n",
              "        text-align: right;\n",
              "    }\n",
              "</style>\n",
              "<table border=\"1\" class=\"dataframe\">\n",
              "  <thead>\n",
              "    <tr style=\"text-align: right;\">\n",
              "      <th></th>\n",
              "      <th>SUPP_ID</th>\n",
              "      <th>SUPP_NAME</th>\n",
              "      <th>CUS_ID</th>\n",
              "      <th>CUS_NAME</th>\n",
              "      <th>RAT_RATSTARS</th>\n",
              "    </tr>\n",
              "  </thead>\n",
              "  <tbody>\n",
              "    <tr>\n",
              "      <th>0</th>\n",
              "      <td>1</td>\n",
              "      <td>Rajesh Retails</td>\n",
              "      <td>5</td>\n",
              "      <td>PULKIT</td>\n",
              "      <td>5</td>\n",
              "    </tr>\n",
              "    <tr>\n",
              "      <th>1</th>\n",
              "      <td>2</td>\n",
              "      <td>Appario Ltd.</td>\n",
              "      <td>2</td>\n",
              "      <td>AMAN</td>\n",
              "      <td>4</td>\n",
              "    </tr>\n",
              "    <tr>\n",
              "      <th>2</th>\n",
              "      <td>5</td>\n",
              "      <td>Mittal Ltd.</td>\n",
              "      <td>4</td>\n",
              "      <td>MEGHA</td>\n",
              "      <td>4</td>\n",
              "    </tr>\n",
              "  </tbody>\n",
              "</table>\n",
              "</div>"
            ],
            "text/plain": [
              "   SUPP_ID       SUPP_NAME  CUS_ID CUS_NAME  RAT_RATSTARS\n",
              "0        1  Rajesh Retails       5   PULKIT             5\n",
              "1        2    Appario Ltd.       2     AMAN             4\n",
              "2        5     Mittal Ltd.       4    MEGHA             4"
            ]
          },
          "metadata": {}
        }
      ],
      "id": "fa0cbe44"
    },
    {
      "cell_type": "markdown",
      "source": "### Q9) Display customer name and gender whose names start or end with character 'A'.",
      "metadata": {
        "id": "346ec2a1"
      },
      "id": "346ec2a1"
    },
    {
      "cell_type": "code",
      "source": "query_9 = \"\"\"SELECT CUS_NAME, CUS_GENDER FROM CUSTOMER WHERE CUS_NAME LIKE '%A%';\"\"\"\n\ncursorObject.execute(query_9)\n \noutput = cursorObject.fetchall()\n   \n## Lets put the output of this query in pandas DataFrame \noutput_df = pd.DataFrame(output, columns=['CUS_NAME','CUS_GENDER'])\noutput_df",
      "metadata": {
        "id": "e571b5fd"
      },
      "execution_count": 11,
      "outputs": [
        {
          "execution_count": 11,
          "output_type": "execute_result",
          "data": {
            "text/html": [
              "<div>\n",
              "<style scoped>\n",
              "    .dataframe tbody tr th:only-of-type {\n",
              "        vertical-align: middle;\n",
              "    }\n",
              "\n",
              "    .dataframe tbody tr th {\n",
              "        vertical-align: top;\n",
              "    }\n",
              "\n",
              "    .dataframe thead th {\n",
              "        text-align: right;\n",
              "    }\n",
              "</style>\n",
              "<table border=\"1\" class=\"dataframe\">\n",
              "  <thead>\n",
              "    <tr style=\"text-align: right;\">\n",
              "      <th></th>\n",
              "      <th>CUS_NAME</th>\n",
              "      <th>CUS_GENDER</th>\n",
              "    </tr>\n",
              "  </thead>\n",
              "  <tbody>\n",
              "    <tr>\n",
              "      <th>0</th>\n",
              "      <td>AAKASH</td>\n",
              "      <td>M</td>\n",
              "    </tr>\n",
              "    <tr>\n",
              "      <th>1</th>\n",
              "      <td>AMAN</td>\n",
              "      <td>M</td>\n",
              "    </tr>\n",
              "    <tr>\n",
              "      <th>2</th>\n",
              "      <td>NEHA</td>\n",
              "      <td>F</td>\n",
              "    </tr>\n",
              "    <tr>\n",
              "      <th>3</th>\n",
              "      <td>MEGHA</td>\n",
              "      <td>F</td>\n",
              "    </tr>\n",
              "  </tbody>\n",
              "</table>\n",
              "</div>"
            ],
            "text/plain": [
              "  CUS_NAME CUS_GENDER\n",
              "0   AAKASH          M\n",
              "1     AMAN          M\n",
              "2     NEHA          F\n",
              "3    MEGHA          F"
            ]
          },
          "metadata": {}
        }
      ],
      "id": "e571b5fd"
    },
    {
      "cell_type": "markdown",
      "source": "### Q10) Display the total order amount of the male customers.",
      "metadata": {
        "id": "d0b01f77"
      },
      "id": "d0b01f77"
    },
    {
      "cell_type": "code",
      "source": "query_10 = \"\"\"SELECT SUM(ORD_AMOUNT) AS TOTAL_AMOUNT FROM `ORDER` WHERE CUS_ID IN \n              (SELECT CUS_ID FROM CUSTOMER WHERE CUS_GENDER='M');\"\"\"\n\ncursorObject.execute(query_10)\n \noutput = cursorObject.fetchall()\n   \n## Lets put the output of this query in pandas DataFrame \noutput_df = pd.DataFrame(output, columns=['TOTAL_AMOUNT'])\noutput_df",
      "metadata": {
        "id": "c3fa76e3"
      },
      "execution_count": 12,
      "outputs": [
        {
          "execution_count": 12,
          "output_type": "execute_result",
          "data": {
            "text/html": [
              "<div>\n",
              "<style scoped>\n",
              "    .dataframe tbody tr th:only-of-type {\n",
              "        vertical-align: middle;\n",
              "    }\n",
              "\n",
              "    .dataframe tbody tr th {\n",
              "        vertical-align: top;\n",
              "    }\n",
              "\n",
              "    .dataframe thead th {\n",
              "        text-align: right;\n",
              "    }\n",
              "</style>\n",
              "<table border=\"1\" class=\"dataframe\">\n",
              "  <thead>\n",
              "    <tr style=\"text-align: right;\">\n",
              "      <th></th>\n",
              "      <th>TOTAL_AMOUNT</th>\n",
              "    </tr>\n",
              "  </thead>\n",
              "  <tbody>\n",
              "    <tr>\n",
              "      <th>0</th>\n",
              "      <td>34500</td>\n",
              "    </tr>\n",
              "  </tbody>\n",
              "</table>\n",
              "</div>"
            ],
            "text/plain": [
              "  TOTAL_AMOUNT\n",
              "0        34500"
            ]
          },
          "metadata": {}
        }
      ],
      "id": "c3fa76e3"
    },
    {
      "cell_type": "markdown",
      "source": "### Q11) Display all the Customers left outer join with  the orders",
      "metadata": {
        "id": "ff8a9971"
      },
      "id": "ff8a9971"
    },
    {
      "cell_type": "code",
      "source": "query_11 = \"\"\"SELECT CUSTOMER.*, `ORDER`.ORD_ID, `ORDER`.ORD_AMOUNT, `ORDER`.ORD_DATE, `ORDER`.PROD_ID FROM CUSTOMER \n              LEFT OUTER JOIN `ORDER` ON CUSTOMER.CUS_ID=`ORDER`.CUS_ID;\"\"\"\n\ncursorObject.execute(query_11)\n\noutput = cursorObject.fetchall()\n\n## Lets put the output of this query in pandas DataFrame \noutput_df = pd.DataFrame(output, columns=['CUS_ID','CUS_NAME','CUS_PHONE','CUS_CITY','CUS_GENDER',\n                                          'ORD_ID','ORD_AMOUNT','ORD_DATE','PROD_ID'])\noutput_df",
      "metadata": {
        "id": "a340c6d6"
      },
      "execution_count": 13,
      "outputs": [
        {
          "execution_count": 13,
          "output_type": "execute_result",
          "data": {
            "text/html": [
              "<div>\n",
              "<style scoped>\n",
              "    .dataframe tbody tr th:only-of-type {\n",
              "        vertical-align: middle;\n",
              "    }\n",
              "\n",
              "    .dataframe tbody tr th {\n",
              "        vertical-align: top;\n",
              "    }\n",
              "\n",
              "    .dataframe thead th {\n",
              "        text-align: right;\n",
              "    }\n",
              "</style>\n",
              "<table border=\"1\" class=\"dataframe\">\n",
              "  <thead>\n",
              "    <tr style=\"text-align: right;\">\n",
              "      <th></th>\n",
              "      <th>CUS_ID</th>\n",
              "      <th>CUS_NAME</th>\n",
              "      <th>CUS_PHONE</th>\n",
              "      <th>CUS_CITY</th>\n",
              "      <th>CUS_GENDER</th>\n",
              "      <th>ORD_ID</th>\n",
              "      <th>ORD_AMOUNT</th>\n",
              "      <th>ORD_DATE</th>\n",
              "      <th>PROD_ID</th>\n",
              "    </tr>\n",
              "  </thead>\n",
              "  <tbody>\n",
              "    <tr>\n",
              "      <th>0</th>\n",
              "      <td>1</td>\n",
              "      <td>AAKASH</td>\n",
              "      <td>9999999999</td>\n",
              "      <td>DELHI</td>\n",
              "      <td>M</td>\n",
              "      <td>3</td>\n",
              "      <td>2000</td>\n",
              "      <td>2021-10-05</td>\n",
              "      <td>1</td>\n",
              "    </tr>\n",
              "    <tr>\n",
              "      <th>1</th>\n",
              "      <td>2</td>\n",
              "      <td>AMAN</td>\n",
              "      <td>9785463215</td>\n",
              "      <td>NOIDA</td>\n",
              "      <td>M</td>\n",
              "      <td>5</td>\n",
              "      <td>2000</td>\n",
              "      <td>2021-10-06</td>\n",
              "      <td>1</td>\n",
              "    </tr>\n",
              "    <tr>\n",
              "      <th>2</th>\n",
              "      <td>3</td>\n",
              "      <td>NEHA</td>\n",
              "      <td>9999999998</td>\n",
              "      <td>MUMBAI</td>\n",
              "      <td>F</td>\n",
              "      <td>20</td>\n",
              "      <td>1500</td>\n",
              "      <td>2021-10-12</td>\n",
              "      <td>5</td>\n",
              "    </tr>\n",
              "    <tr>\n",
              "      <th>3</th>\n",
              "      <td>4</td>\n",
              "      <td>MEGHA</td>\n",
              "      <td>9994562399</td>\n",
              "      <td>KOLKATA</td>\n",
              "      <td>F</td>\n",
              "      <td>4</td>\n",
              "      <td>3500</td>\n",
              "      <td>2021-08-16</td>\n",
              "      <td>3</td>\n",
              "    </tr>\n",
              "    <tr>\n",
              "      <th>4</th>\n",
              "      <td>5</td>\n",
              "      <td>PULKIT</td>\n",
              "      <td>7895999999</td>\n",
              "      <td>LUCKNOW</td>\n",
              "      <td>M</td>\n",
              "      <td>2</td>\n",
              "      <td>30500</td>\n",
              "      <td>2021-09-16</td>\n",
              "      <td>2</td>\n",
              "    </tr>\n",
              "  </tbody>\n",
              "</table>\n",
              "</div>"
            ],
            "text/plain": [
              "   CUS_ID CUS_NAME   CUS_PHONE CUS_CITY CUS_GENDER  ORD_ID  ORD_AMOUNT  \\\n",
              "0       1   AAKASH  9999999999    DELHI          M       3        2000   \n",
              "1       2     AMAN  9785463215    NOIDA          M       5        2000   \n",
              "2       3     NEHA  9999999998   MUMBAI          F      20        1500   \n",
              "3       4    MEGHA  9994562399  KOLKATA          F       4        3500   \n",
              "4       5   PULKIT  7895999999  LUCKNOW          M       2       30500   \n",
              "\n",
              "     ORD_DATE  PROD_ID  \n",
              "0  2021-10-05        1  \n",
              "1  2021-10-06        1  \n",
              "2  2021-10-12        5  \n",
              "3  2021-08-16        3  \n",
              "4  2021-09-16        2  "
            ]
          },
          "metadata": {}
        }
      ],
      "id": "a340c6d6"
    },
    {
      "cell_type": "code",
      "source": "# query result along with product name\n\nquery_11 = \"\"\"SELECT CUSTOMER.*, `ORDER`.ORD_ID, `ORDER`.ORD_AMOUNT, `ORDER`.ORD_DATE, `ORDER`.PROD_ID, PRODUCT.PRO_NAME FROM CUSTOMER \n              LEFT OUTER JOIN `ORDER` ON CUSTOMER.CUS_ID=`ORDER`.CUS_ID\n              LEFT OUTER JOIN PRODUCT_DETAILS ON PRODUCT_DETAILS.PROD_ID=`ORDER`.PROD_ID\n              LEFT OUTER JOIN PRODUCT ON PRODUCT.PRO_ID=PRODUCT_DETAILS.PRO_ID;\"\"\"\n\ncursorObject.execute(query_11)\n\noutput = cursorObject.fetchall()\n\n## Lets put the output of this query in pandas DataFrame \noutput_df = pd.DataFrame(output, columns=['CUS_ID','CUS_NAME','CUS_PHONE','CUS_CITY','CUS_GENDER',\n                                          'ORD_ID','ORD_AMOUNT','ORD_DATE','PROD_ID','PRO_NAME'])\noutput_df",
      "metadata": {},
      "execution_count": 14,
      "outputs": [
        {
          "execution_count": 14,
          "output_type": "execute_result",
          "data": {
            "text/html": [
              "<div>\n",
              "<style scoped>\n",
              "    .dataframe tbody tr th:only-of-type {\n",
              "        vertical-align: middle;\n",
              "    }\n",
              "\n",
              "    .dataframe tbody tr th {\n",
              "        vertical-align: top;\n",
              "    }\n",
              "\n",
              "    .dataframe thead th {\n",
              "        text-align: right;\n",
              "    }\n",
              "</style>\n",
              "<table border=\"1\" class=\"dataframe\">\n",
              "  <thead>\n",
              "    <tr style=\"text-align: right;\">\n",
              "      <th></th>\n",
              "      <th>CUS_ID</th>\n",
              "      <th>CUS_NAME</th>\n",
              "      <th>CUS_PHONE</th>\n",
              "      <th>CUS_CITY</th>\n",
              "      <th>CUS_GENDER</th>\n",
              "      <th>ORD_ID</th>\n",
              "      <th>ORD_AMOUNT</th>\n",
              "      <th>ORD_DATE</th>\n",
              "      <th>PROD_ID</th>\n",
              "      <th>PRO_NAME</th>\n",
              "    </tr>\n",
              "  </thead>\n",
              "  <tbody>\n",
              "    <tr>\n",
              "      <th>0</th>\n",
              "      <td>1</td>\n",
              "      <td>AAKASH</td>\n",
              "      <td>9999999999</td>\n",
              "      <td>DELHI</td>\n",
              "      <td>M</td>\n",
              "      <td>3</td>\n",
              "      <td>2000</td>\n",
              "      <td>2021-10-05</td>\n",
              "      <td>1</td>\n",
              "      <td>GTA V</td>\n",
              "    </tr>\n",
              "    <tr>\n",
              "      <th>1</th>\n",
              "      <td>2</td>\n",
              "      <td>AMAN</td>\n",
              "      <td>9785463215</td>\n",
              "      <td>NOIDA</td>\n",
              "      <td>M</td>\n",
              "      <td>5</td>\n",
              "      <td>2000</td>\n",
              "      <td>2021-10-06</td>\n",
              "      <td>1</td>\n",
              "      <td>GTA V</td>\n",
              "    </tr>\n",
              "    <tr>\n",
              "      <th>2</th>\n",
              "      <td>3</td>\n",
              "      <td>NEHA</td>\n",
              "      <td>9999999998</td>\n",
              "      <td>MUMBAI</td>\n",
              "      <td>F</td>\n",
              "      <td>20</td>\n",
              "      <td>1500</td>\n",
              "      <td>2021-10-12</td>\n",
              "      <td>5</td>\n",
              "      <td>OATS</td>\n",
              "    </tr>\n",
              "    <tr>\n",
              "      <th>3</th>\n",
              "      <td>4</td>\n",
              "      <td>MEGHA</td>\n",
              "      <td>9994562399</td>\n",
              "      <td>KOLKATA</td>\n",
              "      <td>F</td>\n",
              "      <td>4</td>\n",
              "      <td>3500</td>\n",
              "      <td>2021-08-16</td>\n",
              "      <td>3</td>\n",
              "      <td>HARRY POTTER</td>\n",
              "    </tr>\n",
              "    <tr>\n",
              "      <th>4</th>\n",
              "      <td>5</td>\n",
              "      <td>PULKIT</td>\n",
              "      <td>7895999999</td>\n",
              "      <td>LUCKNOW</td>\n",
              "      <td>M</td>\n",
              "      <td>2</td>\n",
              "      <td>30500</td>\n",
              "      <td>2021-09-16</td>\n",
              "      <td>2</td>\n",
              "      <td>ROG LAPTOP</td>\n",
              "    </tr>\n",
              "  </tbody>\n",
              "</table>\n",
              "</div>"
            ],
            "text/plain": [
              "   CUS_ID CUS_NAME   CUS_PHONE CUS_CITY CUS_GENDER  ORD_ID  ORD_AMOUNT  \\\n",
              "0       1   AAKASH  9999999999    DELHI          M       3        2000   \n",
              "1       2     AMAN  9785463215    NOIDA          M       5        2000   \n",
              "2       3     NEHA  9999999998   MUMBAI          F      20        1500   \n",
              "3       4    MEGHA  9994562399  KOLKATA          F       4        3500   \n",
              "4       5   PULKIT  7895999999  LUCKNOW          M       2       30500   \n",
              "\n",
              "     ORD_DATE  PROD_ID      PRO_NAME  \n",
              "0  2021-10-05        1         GTA V  \n",
              "1  2021-10-06        1         GTA V  \n",
              "2  2021-10-12        5          OATS  \n",
              "3  2021-08-16        3  HARRY POTTER  \n",
              "4  2021-09-16        2    ROG LAPTOP  "
            ]
          },
          "metadata": {}
        }
      ],
      "id": "87a6b7c0"
    },
    {
      "cell_type": "code",
      "source": "connection.close()",
      "metadata": {},
      "execution_count": 17,
      "outputs": [],
      "id": "88166b4e"
    },
    {
      "cell_type": "markdown",
      "source": "**NOTE:** Always close an open connection once you are done with the database operations",
      "metadata": {
        "id": "0a72afe3"
      },
      "id": "0a72afe3"
    },
    {
      "cell_type": "markdown",
      "source": "## Happy Learning:)",
      "metadata": {
        "id": "8c88f479"
      },
      "id": "8c88f479"
    }
  ]
}